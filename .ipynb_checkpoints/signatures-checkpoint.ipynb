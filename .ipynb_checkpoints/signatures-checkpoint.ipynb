{
 "cells": [
  {
   "cell_type": "code",
   "execution_count": 6,
   "metadata": {},
   "outputs": [
    {
     "name": "stdout",
     "output_type": "stream",
     "text": [
      "Signature: b'0a73d56d9e3b4f403510f5aff6d6e998c2d0d8a528742f93b48a6d2f90a8ea298a5cce34c85f44864a4092283632bc062c8eb6afc06a6c10d9433d9a9052aa260f935f043ae933aae4bd4429a4e5f8e994593446a4f114466a5794b50e6ee2b3922ac97494f254c167f43ea0a5076266ce1b4a8265bb02f6ca2e0d5bc36eed76'\n",
      "Signature is valid.\n",
      "Signature is invalid.\n"
     ]
    }
   ],
   "source": [
    "from Crypto.PublicKey import RSA\n",
    "from Crypto.Signature.pkcs1_15 import PKCS115_SigScheme\n",
    "from Crypto.Hash import SHA256\n",
    "import binascii\n",
    "\n",
    "# Generate 1024-bit RSA key pair (private + public key)\n",
    "keyPair = RSA.generate(bits=1024)\n",
    "pubKey = keyPair.publickey()\n",
    "\n",
    "# Sign the message using the PKCS#1 v1.5 signature scheme (RSASP1)\n",
    "msg = b'Message for RSA signing'\n",
    "hash = SHA256.new(msg)\n",
    "signer = PKCS115_SigScheme(keyPair)\n",
    "signature = signer.sign(hash)\n",
    "print(\"Signature:\", binascii.hexlify(signature))\n",
    "\n",
    "# Verify valid PKCS#1 v1.5 signature (RSAVP1)\n",
    "msg = b'Message for RSA signing'\n",
    "hash = SHA256.new(msg)\n",
    "verifier = PKCS115_SigScheme(pubKey)\n",
    "try:\n",
    "    verifier.verify(hash, signature)\n",
    "    print(\"Signature is valid.\")\n",
    "except:\n",
    "    print(\"Signature is invalid.\")\n",
    "\n",
    "# Verify invalid PKCS#1 v1.5 signature (RSAVP1)\n",
    "msg = b'A tampered message'\n",
    "hash = SHA256.new(msg)\n",
    "verifier = PKCS115_SigScheme(pubKey)\n",
    "try:\n",
    "    verifier.verify(hash, signature)\n",
    "    print(\"Signature is valid.\")\n",
    "except:\n",
    "    print(\"Signature is invalid.\")"
   ]
  },
  {
   "cell_type": "code",
   "execution_count": 2,
   "metadata": {},
   "outputs": [
    {
     "name": "stdout",
     "output_type": "stream",
     "text": [
      "Public key:  (n=0xed8d64e657dce65eb83867e925971c8c26b80e8c4f4e13a96080075309e14d7b179bc81977b6d2926110485cbf422af9297bba3be5e31e3e673a1ea98b97a2fd30421c138b5383624ae5b5978717853ee8381acf30509ccfaeb26144560f8f494f810fef47b840ff93579ea9910782cbefc78cbe7e023963fa9383a33ae51335, e=0x10001)\n",
      "Private key: (n=0xed8d64e657dce65eb83867e925971c8c26b80e8c4f4e13a96080075309e14d7b179bc81977b6d2926110485cbf422af9297bba3be5e31e3e673a1ea98b97a2fd30421c138b5383624ae5b5978717853ee8381acf30509ccfaeb26144560f8f494f810fef47b840ff93579ea9910782cbefc78cbe7e023963fa9383a33ae51335, d=0x19c9b832e345e9424e185d7b6b67c0a31c4eedd1608896ccd3db82300b0a08d9bc81de529972e0e020265edca6ac9db2a7c4b53e6c61dff62149a76b7b6a6e387d9a33986ef56fd3424c07aa3aeeb703cdd07d837702db1921c4f25d4a03713f1ccbe4a9835eed3a4f11857ece181fe2a1697f0fdcfb6e287132cc80be0ca4af)\n"
     ]
    }
   ],
   "source": [
    "keyPair = RSA.generate(bits=1024)\n",
    "print(f\"Public key:  (n={hex(keyPair.n)}, e={hex(keyPair.e)})\")\n",
    "print(f\"Private key: (n={hex(keyPair.n)}, d={hex(keyPair.d)})\")"
   ]
  },
  {
   "cell_type": "code",
   "execution_count": 3,
   "metadata": {},
   "outputs": [
    {
     "name": "stdout",
     "output_type": "stream",
     "text": [
      "Signature: 0x55b5d589909a8ca306fe9c8d192930a05cbcdaaf705c5af752bc8ede1e9e2b098dfcb350b37fde24c608ee73e487d46f67d86e39676bdfe4a22b0c27a11863a78b3f163eef87912db635eb2b6e3e6600a0193a31b6297cd67312e20ae1fadf25da5a696c910f03f20bac3f2716ef64015698357b859a762c494ac32f97da8d1d\n"
     ]
    }
   ],
   "source": [
    "msg = b'A message for signing'\n",
    "from hashlib import sha512\n",
    "hash = int.from_bytes(sha512(msg).digest(), byteorder='big')\n",
    "signature = pow(hash, keyPair.d, keyPair.n)\n",
    "print(\"Signature:\", hex(signature))"
   ]
  },
  {
   "cell_type": "code",
   "execution_count": 4,
   "metadata": {},
   "outputs": [
    {
     "name": "stdout",
     "output_type": "stream",
     "text": [
      "Signature valid: True\n"
     ]
    }
   ],
   "source": [
    "msg = b'A message for signing'\n",
    "hash = int.from_bytes(sha512(msg).digest(), byteorder='big')\n",
    "hashFromSignature = pow(signature, keyPair.e, keyPair.n)\n",
    "print(\"Signature valid:\", hash == hashFromSignature)"
   ]
  },
  {
   "cell_type": "code",
   "execution_count": 5,
   "metadata": {},
   "outputs": [
    {
     "name": "stdout",
     "output_type": "stream",
     "text": [
      "Signature valid (tampered): False\n"
     ]
    }
   ],
   "source": [
    "# RSA verify signature (tampered msg)\n",
    "msg = b'A message for signing (tampered)'\n",
    "hash = int.from_bytes(sha512(msg).digest(), byteorder='big')\n",
    "hashFromSignature = pow(signature, keyPair.e, keyPair.n)\n",
    "print(\"Signature valid (tampered):\", hash == hashFromSignature)"
   ]
  },
  {
   "cell_type": "code",
   "execution_count": null,
   "metadata": {},
   "outputs": [],
   "source": []
  }
 ],
 "metadata": {
  "kernelspec": {
   "display_name": "Python 3",
   "language": "python",
   "name": "python3"
  },
  "language_info": {
   "codemirror_mode": {
    "name": "ipython",
    "version": 3
   },
   "file_extension": ".py",
   "mimetype": "text/x-python",
   "name": "python",
   "nbconvert_exporter": "python",
   "pygments_lexer": "ipython3",
   "version": "3.8.3"
  }
 },
 "nbformat": 4,
 "nbformat_minor": 4
}
