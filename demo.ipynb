{
 "metadata": {
  "language_info": {
   "codemirror_mode": {
    "name": "ipython",
    "version": 3
   },
   "file_extension": ".py",
   "mimetype": "text/x-python",
   "name": "python",
   "nbconvert_exporter": "python",
   "pygments_lexer": "ipython3",
   "version": "3.8.3"
  },
  "orig_nbformat": 2,
  "kernelspec": {
   "name": "python383jvsc74a57bd08f44adc2608069302fa9fa2511bc88ef18a867f0f5e7c5f407da359ed195e9ce",
   "display_name": "Python 3.8.3 64-bit ('base': conda)"
  }
 },
 "nbformat": 4,
 "nbformat_minor": 2,
 "cells": [
  {
   "cell_type": "code",
   "execution_count": null,
   "metadata": {},
   "outputs": [],
   "source": [
    "import binascii\n",
    "\n",
    "from Crypto.Hash import SHA256\n",
    "from Crypto.PublicKey import RSA\n",
    "from Crypto.Signature.pkcs1_15 import PKCS115_SigScheme"
   ]
  },
  {
   "cell_type": "code",
   "execution_count": null,
   "metadata": {},
   "outputs": [],
   "source": [
    "# Input generated private and public keys here\n",
    "private_key_input = b''\n",
    "public_key_input = b''"
   ]
  },
  {
   "cell_type": "code",
   "execution_count": null,
   "metadata": {},
   "outputs": [],
   "source": [
    "private_key = RSA.import_key(private_key_input)\n",
    "public_key = RSA.import_key(public_key_input)"
   ]
  },
  {
   "cell_type": "code",
   "execution_count": null,
   "metadata": {},
   "outputs": [],
   "source": [
    "# Generate a digital signature from the content\n",
    "msg = b'Fintech Bootcamp Completed!'\n",
    "msg_hash = SHA256.new(msg)\n",
    "signer = PKCS115_SigScheme(private_key)\n",
    "signature = signer.sign(msg_hash)\n",
    "print(f\"Signature: {binascii.hexlify(signature)}\")"
   ]
  },
  {
   "cell_type": "code",
   "execution_count": null,
   "metadata": {},
   "outputs": [],
   "source": [
    "# Verify the authenticity of the content\n",
    "verify_signature = b''\n",
    "verifier = PKCS115_SigScheme(public_key)\n",
    "try:\n",
    "    verifier.verify(msg_hash, binascii.unhexlify(verify_signature))\n",
    "    print(\"Signature is valid.\")\n",
    "except:\n",
    "    print(\"Signature is invalid.\")"
   ]
  }
 ]
}