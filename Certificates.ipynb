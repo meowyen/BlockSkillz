{
 "cells": [
  {
   "cell_type": "code",
   "execution_count": 32,
   "metadata": {},
   "outputs": [],
   "source": [
    "import Crypto\n",
    "from Crypto.PublicKey import RSA\n",
    "from Crypto import Random\n",
    "import base64\n",
    "import Crypto.Cipher\n",
    "from Crypto.Cipher import PKCS1_OAEP\n",
    "from Crypto.Signature import pkcs1_15\n",
    "from Crypto.Hash import SHA256\n",
    "import ast"
   ]
  },
  {
   "cell_type": "code",
   "execution_count": 33,
   "metadata": {},
   "outputs": [],
   "source": [
    "def rsakeys():  \n",
    "     length=1024  \n",
    "     privatekey = RSA.generate(length, Random.new().read)  \n",
    "     publickey = privatekey.publickey()  \n",
    "     return privatekey, publickey\n",
    "\n",
    "print(private)"
   ]
  },
  {
   "cell_type": "code",
   "execution_count": 3,
   "metadata": {},
   "outputs": [],
   "source": [
    "#def encrypt(rsa_publickey,plain_text):\n",
    "    # cipher_text=rsa_publickey.encrypt(plain_text,32)[0]\n",
    "     #b64cipher=base64.b64encode(cipher_text)\n",
    "     #return b64cipher"
   ]
  },
  {
   "cell_type": "code",
   "execution_count": 4,
   "metadata": {},
   "outputs": [],
   "source": [
    "#def decrypt(rsa_privatekey,b64cipher):\n",
    "     #decoded_ciphertext = base64.b64decode(b64cipher)\n",
    "     #plaintext = rsa_privatekey.decrypt(decoded_ciphertext)\n",
    "     #return plaintext"
   ]
  },
  {
   "cell_type": "code",
   "execution_count": 31,
   "metadata": {},
   "outputs": [
    {
     "name": "stdout",
     "output_type": "stream",
     "text": [
      "b\"\\nT4\\xc2G\\xa6P\\x89\\xaf\\xc42+\\x1a^\\xb6\\xf9\\x86O\\x1b\\xbf\\xf3\\xe9\\xe6^M\\x12\\x0ea\\xa5?\\xdb\\xd7\\x94'\\x9a\\xc7\\xfb9\\xa7\\x16\\x89K\\xf0\\x85\\xca\\x91V\\x82Y\\x8d\\xab\\xac\\x92\\xf0[\\x94\\xae\\x0e\\x0e\\xbf<\\xb3\\x1b\\x97\\xa7\\x90\\x01\\xcek\\xc7@\\x81l\\xbcQ\\xad\\x13\\xfdC\\xe1\\xe1z\\x98Q6\\xf8=\\x15\\xd2\\x1d7\\xda\\x93\\xc1(d\\x03\\xc7[\\x00\\xee\\x95#3\\xc6\\x9e\\xde\\x87<\\xd2\\x80\\xec\\xec\\x8a\\xceb*\\x94<%\\x0eVg.l*\\x82\\x1c\"\n"
     ]
    }
   ],
   "source": [
    "privatekey,publickey=rsakeys() #generating keys\n",
    "text=b'Hello BlockSkillz!' #Text to encrypt\n",
    "encryptor = PKCS1_OAEP.new(publickey)\n",
    "encrypted = encryptor.encrypt(text)\n",
    "print(encrypted)"
   ]
  },
  {
   "cell_type": "code",
   "execution_count": 15,
   "metadata": {},
   "outputs": [
    {
     "name": "stdout",
     "output_type": "stream",
     "text": [
      "b'Hello BlockSkillz!'\n"
     ]
    }
   ],
   "source": [
    "\n",
    "decryptor = PKCS1_OAEP.new(privatekey)\n",
    "decrypted = decryptor.decrypt(ast.literal_eval(str(encrypted)))\n",
    "print(decrypted)"
   ]
  },
  {
   "cell_type": "code",
   "execution_count": 16,
   "metadata": {},
   "outputs": [],
   "source": [
    "def sign(privatekey,data):\n",
    "    return base64.b64encode(str((privatekey.sign(data,''))[0]).encode())"
   ]
  },
  {
   "cell_type": "code",
   "execution_count": 17,
   "metadata": {},
   "outputs": [],
   "source": [
    "def verify(publickey,data,sign):\n",
    "     return publickey.verify(data,(int(base64.b64decode(sign)),))"
   ]
  },
  {
   "cell_type": "code",
   "execution_count": 29,
   "metadata": {},
   "outputs": [
    {
     "ename": "TypeError",
     "evalue": "expected str, bytes or os.PathLike object, not RsaKey",
     "output_type": "error",
     "traceback": [
      "\u001b[0;31m---------------------------------------------------------------------------\u001b[0m",
      "\u001b[0;31mTypeError\u001b[0m                                 Traceback (most recent call last)",
      "\u001b[0;32m<ipython-input-29-c9b42f5c9b77>\u001b[0m in \u001b[0;36m<module>\u001b[0;34m\u001b[0m\n\u001b[1;32m      1\u001b[0m \u001b[0mmessage\u001b[0m \u001b[0;34m=\u001b[0m \u001b[0;34m'To be signed'\u001b[0m\u001b[0;34m\u001b[0m\u001b[0;34m\u001b[0m\u001b[0m\n\u001b[0;32m----> 2\u001b[0;31m \u001b[0mkey\u001b[0m \u001b[0;34m=\u001b[0m \u001b[0mRSA\u001b[0m\u001b[0;34m.\u001b[0m\u001b[0mimportKey\u001b[0m\u001b[0;34m(\u001b[0m\u001b[0mopen\u001b[0m\u001b[0;34m(\u001b[0m\u001b[0mprivatekey\u001b[0m\u001b[0;34m)\u001b[0m\u001b[0;34m.\u001b[0m\u001b[0mread\u001b[0m\u001b[0;34m(\u001b[0m\u001b[0;34m)\u001b[0m\u001b[0;34m)\u001b[0m\u001b[0;34m\u001b[0m\u001b[0;34m\u001b[0m\u001b[0m\n\u001b[0m\u001b[1;32m      3\u001b[0m \u001b[0mh\u001b[0m \u001b[0;34m=\u001b[0m \u001b[0mSHA256\u001b[0m\u001b[0;34m.\u001b[0m\u001b[0mnew\u001b[0m\u001b[0;34m(\u001b[0m\u001b[0mmessage\u001b[0m\u001b[0;34m)\u001b[0m\u001b[0;34m\u001b[0m\u001b[0;34m\u001b[0m\u001b[0m\n\u001b[1;32m      4\u001b[0m \u001b[0msignature\u001b[0m \u001b[0;34m=\u001b[0m \u001b[0mpkcs1_15\u001b[0m\u001b[0;34m.\u001b[0m\u001b[0mnew\u001b[0m\u001b[0;34m(\u001b[0m\u001b[0mkey\u001b[0m\u001b[0;34m)\u001b[0m\u001b[0;34m.\u001b[0m\u001b[0msign\u001b[0m\u001b[0;34m(\u001b[0m\u001b[0mh\u001b[0m\u001b[0;34m)\u001b[0m\u001b[0;34m\u001b[0m\u001b[0;34m\u001b[0m\u001b[0m\n",
      "\u001b[0;31mTypeError\u001b[0m: expected str, bytes or os.PathLike object, not RsaKey"
     ]
    }
   ],
   "source": [
    "message = 'To be signed'\n",
    "key = RSA.importKey(open(privatekey).read())\n",
    "h = SHA256.new(message)\n",
    "signature = pkcs1_15.new(key).sign(h)"
   ]
  },
  {
   "cell_type": "code",
   "execution_count": null,
   "metadata": {},
   "outputs": [],
   "source": []
  },
  {
   "cell_type": "code",
   "execution_count": null,
   "metadata": {},
   "outputs": [],
   "source": []
  },
  {
   "cell_type": "code",
   "execution_count": null,
   "metadata": {},
   "outputs": [],
   "source": []
  }
 ],
 "metadata": {
  "kernelspec": {
   "display_name": "Python 3",
   "language": "python",
   "name": "python3"
  },
  "language_info": {
   "codemirror_mode": {
    "name": "ipython",
    "version": 3
   },
   "file_extension": ".py",
   "mimetype": "text/x-python",
   "name": "python",
   "nbconvert_exporter": "python",
   "pygments_lexer": "ipython3",
   "version": "3.8.3"
  }
 },
 "nbformat": 4,
 "nbformat_minor": 4
}
