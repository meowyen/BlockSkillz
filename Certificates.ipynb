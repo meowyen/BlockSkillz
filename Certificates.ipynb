{
 "cells": [
  {
   "cell_type": "code",
   "execution_count": 1,
   "metadata": {},
   "outputs": [],
   "source": [
    "import Crypto\n",
    "from Crypto.PublicKey import RSA\n",
    "from Crypto import Random\n",
    "import base64\n",
    "import Crypto.Cipher\n",
    "from Crypto.Cipher import PKCS1_OAEP\n",
    "import ast"
   ]
  },
  {
   "cell_type": "code",
   "execution_count": 2,
   "metadata": {},
   "outputs": [],
   "source": [
    "def rsakeys():  \n",
    "     length=1024  \n",
    "     privatekey = RSA.generate(length, Random.new().read)  \n",
    "     publickey = privatekey.publickey()  \n",
    "     return privatekey, publickey"
   ]
  },
  {
   "cell_type": "code",
   "execution_count": 3,
   "metadata": {},
   "outputs": [],
   "source": [
    "#def encrypt(rsa_publickey,plain_text):\n",
    "    # cipher_text=rsa_publickey.encrypt(plain_text,32)[0]\n",
    "     #b64cipher=base64.b64encode(cipher_text)\n",
    "     #return b64cipher"
   ]
  },
  {
   "cell_type": "code",
   "execution_count": 4,
   "metadata": {},
   "outputs": [],
   "source": [
    "#def decrypt(rsa_privatekey,b64cipher):\n",
    "     #decoded_ciphertext = base64.b64decode(b64cipher)\n",
    "     #plaintext = rsa_privatekey.decrypt(decoded_ciphertext)\n",
    "     #return plaintext"
   ]
  },
  {
   "cell_type": "code",
   "execution_count": 14,
   "metadata": {},
   "outputs": [
    {
     "name": "stdout",
     "output_type": "stream",
     "text": [
      "b'\\xc1\\xcb\\xe9!\\xf5w\\x17\\x8b\\xdc|7\\xc1`X\\x17\\xf92\\xbf*\\x0f\\x8ds\\xa8a\\xd3)fQ\\xbcC\\xb3\\xe9\\xe3\\xa7\\x1cIX#\\x08T\\xc4\\xc0\\xf9\\xf7v\\xccl\\xb2\\x9a]\\x07\\xab~\\xd8\\x82\\xdf|\\xe1;\\xd8\\x18\\x08W\\xcc\\x87\\x8b\\x04\\xc6?a\\xd4\\x83(\\x07\\x966\\x0el\\xef)\\x9c\\x8b\\xa07\\xe3\\xe7yQ\\xd6\\x83\\xb9\\x12N\\x96\\x88\\xd1\\\\\\x0cfTgoj\\xf0\\xc4X;\\xb0\\x7f\\xac\\\\.\\xef\\xda3\\xcf\\xba\\x8c\\xb2\\x1d\\xb6c\\xf3\\x0f8D\\x98q'\n"
     ]
    }
   ],
   "source": [
    "privatekey,publickey=rsakeys() #generating keys\n",
    "text=b'Hello BlockSkillz!' #Text to encrypt\n",
    "encryptor = PKCS1_OAEP.new(publickey)\n",
    "encrypted = encryptor.encrypt(text)\n",
    "print(encrypted)"
   ]
  },
  {
   "cell_type": "code",
   "execution_count": 15,
   "metadata": {},
   "outputs": [
    {
     "name": "stdout",
     "output_type": "stream",
     "text": [
      "b'Hello BlockSkillz!'\n"
     ]
    }
   ],
   "source": [
    "\n",
    "decryptor = PKCS1_OAEP.new(privatekey)\n",
    "decrypted = decryptor.decrypt(ast.literal_eval(str(encrypted)))\n",
    "print(decrypted)"
   ]
  },
  {
   "cell_type": "code",
   "execution_count": null,
   "metadata": {},
   "outputs": [],
   "source": []
  },
  {
   "cell_type": "code",
   "execution_count": null,
   "metadata": {},
   "outputs": [],
   "source": []
  }
 ],
 "metadata": {
  "kernelspec": {
   "display_name": "Python 3",
   "language": "python",
   "name": "python3"
  },
  "language_info": {
   "codemirror_mode": {
    "name": "ipython",
    "version": 3
   },
   "file_extension": ".py",
   "mimetype": "text/x-python",
   "name": "python",
   "nbconvert_exporter": "python",
   "pygments_lexer": "ipython3",
   "version": "3.8.3"
  }
 },
 "nbformat": 4,
 "nbformat_minor": 4
}
